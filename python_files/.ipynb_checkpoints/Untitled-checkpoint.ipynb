{
 "cells": [
  {
   "cell_type": "code",
   "execution_count": 1,
   "metadata": {},
   "outputs": [],
   "source": [
    "import pandas as pd"
   ]
  },
  {
   "cell_type": "code",
   "execution_count": 2,
   "metadata": {},
   "outputs": [],
   "source": [
    "df=pd.read_csv(\"books_with_scores.csv\")"
   ]
  },
  {
   "cell_type": "code",
   "execution_count": 3,
   "metadata": {},
   "outputs": [
    {
     "data": {
      "text/html": [
       "<div>\n",
       "<style scoped>\n",
       "    .dataframe tbody tr th:only-of-type {\n",
       "        vertical-align: middle;\n",
       "    }\n",
       "\n",
       "    .dataframe tbody tr th {\n",
       "        vertical-align: top;\n",
       "    }\n",
       "\n",
       "    .dataframe thead th {\n",
       "        text-align: right;\n",
       "    }\n",
       "</style>\n",
       "<table border=\"1\" class=\"dataframe\">\n",
       "  <thead>\n",
       "    <tr style=\"text-align: right;\">\n",
       "      <th></th>\n",
       "      <th>Unnamed: 0</th>\n",
       "      <th>id</th>\n",
       "      <th>title</th>\n",
       "      <th>description</th>\n",
       "      <th>genre</th>\n",
       "      <th>image_link</th>\n",
       "      <th>book_rating</th>\n",
       "      <th>ratings_count</th>\n",
       "      <th>author</th>\n",
       "      <th>author_rating</th>\n",
       "      <th>year</th>\n",
       "      <th>edition</th>\n",
       "      <th>impressions</th>\n",
       "      <th>clicks</th>\n",
       "      <th>score</th>\n",
       "    </tr>\n",
       "  </thead>\n",
       "  <tbody>\n",
       "    <tr>\n",
       "      <th>0</th>\n",
       "      <td>0</td>\n",
       "      <td>1</td>\n",
       "      <td>The End of Power: From Boardrooms to Battlefie...</td>\n",
       "      <td>We know that power is shifting: From West to E...</td>\n",
       "      <td>Business</td>\n",
       "      <td>https://i.gr-assets.com/images/S/compressed.ph...</td>\n",
       "      <td>3.63</td>\n",
       "      <td>231</td>\n",
       "      <td>Moisés Naím</td>\n",
       "      <td>4.072161</td>\n",
       "      <td>2002</td>\n",
       "      <td>1</td>\n",
       "      <td>727</td>\n",
       "      <td>43</td>\n",
       "      <td>0.316738</td>\n",
       "    </tr>\n",
       "    <tr>\n",
       "      <th>1</th>\n",
       "      <td>1</td>\n",
       "      <td>2</td>\n",
       "      <td>Console Wars: Sega, Nintendo, and the Battle t...</td>\n",
       "      <td>Following the success of The Accidental Billio...</td>\n",
       "      <td>Business</td>\n",
       "      <td>https://i.gr-assets.com/images/S/compressed.ph...</td>\n",
       "      <td>3.94</td>\n",
       "      <td>29</td>\n",
       "      <td>Blake J. Harris</td>\n",
       "      <td>4.025626</td>\n",
       "      <td>2015</td>\n",
       "      <td>4</td>\n",
       "      <td>791</td>\n",
       "      <td>91</td>\n",
       "      <td>0.445029</td>\n",
       "    </tr>\n",
       "    <tr>\n",
       "      <th>2</th>\n",
       "      <td>2</td>\n",
       "      <td>3</td>\n",
       "      <td>Trust Agents: Using the Web to Build Influence...</td>\n",
       "      <td>How to tap the power of social software and ne...</td>\n",
       "      <td>Business</td>\n",
       "      <td>https://i.gr-assets.com/images/S/compressed.ph...</td>\n",
       "      <td>3.78</td>\n",
       "      <td>347</td>\n",
       "      <td>Chris Brogan</td>\n",
       "      <td>3.926127</td>\n",
       "      <td>1998</td>\n",
       "      <td>4</td>\n",
       "      <td>971</td>\n",
       "      <td>20</td>\n",
       "      <td>0.443878</td>\n",
       "    </tr>\n",
       "    <tr>\n",
       "      <th>3</th>\n",
       "      <td>3</td>\n",
       "      <td>4</td>\n",
       "      <td>The Four Pillars of Investing</td>\n",
       "      <td>William J. Bernstein is an American financial ...</td>\n",
       "      <td>Business</td>\n",
       "      <td>https://i.gr-assets.com/images/S/compressed.ph...</td>\n",
       "      <td>4.20</td>\n",
       "      <td>34</td>\n",
       "      <td>William J. Bernstein</td>\n",
       "      <td>3.924032</td>\n",
       "      <td>2017</td>\n",
       "      <td>2</td>\n",
       "      <td>297</td>\n",
       "      <td>77</td>\n",
       "      <td>0.350241</td>\n",
       "    </tr>\n",
       "    <tr>\n",
       "      <th>4</th>\n",
       "      <td>4</td>\n",
       "      <td>5</td>\n",
       "      <td>Made in Japan: Akio Morita and Sony</td>\n",
       "      <td>Amazing book. And I joined Steve Jobs and many...</td>\n",
       "      <td>Business</td>\n",
       "      <td>https://i.gr-assets.com/images/S/compressed.ph...</td>\n",
       "      <td>4.05</td>\n",
       "      <td>230</td>\n",
       "      <td>Akio Morita</td>\n",
       "      <td>2.641370</td>\n",
       "      <td>2014</td>\n",
       "      <td>3</td>\n",
       "      <td>1571</td>\n",
       "      <td>72</td>\n",
       "      <td>0.399511</td>\n",
       "    </tr>\n",
       "  </tbody>\n",
       "</table>\n",
       "</div>"
      ],
      "text/plain": [
       "   Unnamed: 0  id                                              title  \\\n",
       "0           0   1  The End of Power: From Boardrooms to Battlefie...   \n",
       "1           1   2  Console Wars: Sega, Nintendo, and the Battle t...   \n",
       "2           2   3  Trust Agents: Using the Web to Build Influence...   \n",
       "3           3   4                      The Four Pillars of Investing   \n",
       "4           4   5                Made in Japan: Akio Morita and Sony   \n",
       "\n",
       "                                         description     genre  \\\n",
       "0  We know that power is shifting: From West to E...  Business   \n",
       "1  Following the success of The Accidental Billio...  Business   \n",
       "2  How to tap the power of social software and ne...  Business   \n",
       "3  William J. Bernstein is an American financial ...  Business   \n",
       "4  Amazing book. And I joined Steve Jobs and many...  Business   \n",
       "\n",
       "                                          image_link  book_rating  \\\n",
       "0  https://i.gr-assets.com/images/S/compressed.ph...         3.63   \n",
       "1  https://i.gr-assets.com/images/S/compressed.ph...         3.94   \n",
       "2  https://i.gr-assets.com/images/S/compressed.ph...         3.78   \n",
       "3  https://i.gr-assets.com/images/S/compressed.ph...         4.20   \n",
       "4  https://i.gr-assets.com/images/S/compressed.ph...         4.05   \n",
       "\n",
       "   ratings_count                author  author_rating  year  edition  \\\n",
       "0            231           Moisés Naím       4.072161  2002        1   \n",
       "1             29       Blake J. Harris       4.025626  2015        4   \n",
       "2            347          Chris Brogan       3.926127  1998        4   \n",
       "3             34  William J. Bernstein       3.924032  2017        2   \n",
       "4            230           Akio Morita       2.641370  2014        3   \n",
       "\n",
       "   impressions  clicks     score  \n",
       "0          727      43  0.316738  \n",
       "1          791      91  0.445029  \n",
       "2          971      20  0.443878  \n",
       "3          297      77  0.350241  \n",
       "4         1571      72  0.399511  "
      ]
     },
     "execution_count": 3,
     "metadata": {},
     "output_type": "execute_result"
    }
   ],
   "source": [
    "df.head()"
   ]
  },
  {
   "cell_type": "code",
   "execution_count": 18,
   "metadata": {},
   "outputs": [],
   "source": [
    "dfn=df.sample(n=5).index"
   ]
  },
  {
   "cell_type": "code",
   "execution_count": 20,
   "metadata": {},
   "outputs": [
    {
     "data": {
      "text/plain": [
       "pandas.core.indexes.numeric.Int64Index"
      ]
     },
     "execution_count": 20,
     "metadata": {},
     "output_type": "execute_result"
    }
   ],
   "source": [
    "type(dfn)"
   ]
  },
  {
   "cell_type": "code",
   "execution_count": 21,
   "metadata": {},
   "outputs": [
    {
     "name": "stdout",
     "output_type": "stream",
     "text": [
      "Security Analysis: Principles and Technique\n",
      "Turn the Ship Around!: A True Story of Turning Followers into Leaders\n",
      "Labyrinths: Selected Stories and Other Writings\n",
      "Make Time: How to Focus on What Matters Every Day\n",
      "The Canterbury Tales\n"
     ]
    }
   ],
   "source": [
    "for i in dfn:\n",
    "    print(df['title'][i])"
   ]
  },
  {
   "cell_type": "code",
   "execution_count": 17,
   "metadata": {},
   "outputs": [
    {
     "data": {
      "text/plain": [
       "1355       World War Z: An Oral History of the Zombie War\n",
       "247     Building Social Business: The New Kind of Capi...\n",
       "1646                                     Nineteen Minutes\n",
       "1282                                    The Metamorphosis\n",
       "895      One Click: Jeff Bezos and the Rise of Amazon.com\n",
       "Name: title, dtype: object"
      ]
     },
     "execution_count": 17,
     "metadata": {},
     "output_type": "execute_result"
    }
   ],
   "source": [
    "dfn['title']"
   ]
  },
  {
   "cell_type": "code",
   "execution_count": null,
   "metadata": {},
   "outputs": [],
   "source": []
  }
 ],
 "metadata": {
  "kernelspec": {
   "display_name": "Python 3",
   "language": "python",
   "name": "python3"
  },
  "language_info": {
   "codemirror_mode": {
    "name": "ipython",
    "version": 3
   },
   "file_extension": ".py",
   "mimetype": "text/x-python",
   "name": "python",
   "nbconvert_exporter": "python",
   "pygments_lexer": "ipython3",
   "version": "3.8.5"
  }
 },
 "nbformat": 4,
 "nbformat_minor": 4
}
