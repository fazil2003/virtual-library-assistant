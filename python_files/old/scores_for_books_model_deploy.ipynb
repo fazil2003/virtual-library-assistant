{
 "cells": [
  {
   "cell_type": "code",
   "execution_count": null,
   "metadata": {},
   "outputs": [],
   "source": [
    "import pandas as pd\n",
    "import numpy as np\n",
    "from tensorflow.keras.models import load_model\n",
    "model2=load_model(\"books_model.h5\")"
   ]
  },
  {
   "cell_type": "code",
   "execution_count": null,
   "metadata": {},
   "outputs": [],
   "source": [
    "df=pd.read_csv(\"books.csv\")"
   ]
  },
  {
   "cell_type": "code",
   "execution_count": null,
   "metadata": {},
   "outputs": [],
   "source": [
    "df.head()"
   ]
  },
  {
   "cell_type": "code",
   "execution_count": null,
   "metadata": {},
   "outputs": [],
   "source": [
    "score=[]\n",
    "for i in range(0,60,1):\n",
    "    average_rating=df['average_rating'][i]\n",
    "    author_rating=df['author_rating'][i]\n",
    "    ratings_count=df['ratings_count'][i]\n",
    "    year=df['year'][i]\n",
    "    edition=df['edition'][i]\n",
    "    impressions=df['impressions'][i]\n",
    "    clicks=df['clicks'][i]\n",
    "    \n",
    "    test_data_values=[average_rating,author_rating,ratings_count,year,edition,impressions,clicks]\n",
    "    test_data=np.array(test_data_values,ndmin=2)\n",
    "    value=model2.predict(test_data)\n",
    "    \n",
    "    score.append(value[0][0])"
   ]
  },
  {
   "cell_type": "code",
   "execution_count": null,
   "metadata": {},
   "outputs": [],
   "source": [
    "df['score']=score\n",
    "df"
   ]
  },
  {
   "cell_type": "code",
   "execution_count": null,
   "metadata": {},
   "outputs": [],
   "source": [
    "df.to_csv('books_with_scores.csv')"
   ]
  }
 ],
 "metadata": {
  "kernelspec": {
   "display_name": "Python 3",
   "language": "python",
   "name": "python3"
  },
  "language_info": {
   "codemirror_mode": {
    "name": "ipython",
    "version": 3
   },
   "file_extension": ".py",
   "mimetype": "text/x-python",
   "name": "python",
   "nbconvert_exporter": "python",
   "pygments_lexer": "ipython3",
   "version": "3.8.5"
  }
 },
 "nbformat": 4,
 "nbformat_minor": 4
}
