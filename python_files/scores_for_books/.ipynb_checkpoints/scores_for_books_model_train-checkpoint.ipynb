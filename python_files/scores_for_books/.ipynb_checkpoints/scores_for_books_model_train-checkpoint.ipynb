{
 "cells": [
  {
   "cell_type": "code",
   "execution_count": null,
   "metadata": {},
   "outputs": [],
   "source": [
    "import numpy as np\n",
    "average_rating = np.random.uniform(5,0,900000)\n",
    "author_rating = np.random.uniform(5,0,900000)\n",
    "ratings_count=np.random.randint(2000, size=(900000))\n",
    "year=np.random.randint(1963,2020, size=(900000))\n",
    "edition=np.random.randint(1,5,size=(900000))\n",
    "impressions=np.random.randint(0,5000, size=(900000))\n",
    "clicks=np.random.randint(0,500, size=(900000))"
   ]
  },
  {
   "cell_type": "code",
   "execution_count": null,
   "metadata": {},
   "outputs": [],
   "source": [
    "data = np.stack((average_rating,author_rating,ratings_count,year,edition,impressions,clicks), axis=1)"
   ]
  },
  {
   "cell_type": "code",
   "execution_count": null,
   "metadata": {},
   "outputs": [],
   "source": [
    "our_score=(average_rating/5)+(ratings_count/2000)+(year/2020)+(author_rating/5)+(edition/5)+(impressions/5000)+(clicks/500)"
   ]
  },
  {
   "cell_type": "code",
   "execution_count": null,
   "metadata": {},
   "outputs": [],
   "source": [
    "np.where(our_score==np.amax(our_score))"
   ]
  },
  {
   "cell_type": "code",
   "execution_count": null,
   "metadata": {},
   "outputs": [],
   "source": [
    "data[297999]"
   ]
  },
  {
   "cell_type": "code",
   "execution_count": null,
   "metadata": {},
   "outputs": [],
   "source": [
    "test_data"
   ]
  },
  {
   "cell_type": "code",
   "execution_count": null,
   "metadata": {},
   "outputs": [],
   "source": [
    "from sklearn.preprocessing import MinMaxScaler\n",
    "scaler = MinMaxScaler()\n",
    "#data = scaler.fit_transform(data)"
   ]
  },
  {
   "cell_type": "code",
   "execution_count": null,
   "metadata": {},
   "outputs": [],
   "source": [
    "our_score=our_score.reshape(-1,1)\n",
    "our_score=scaler.fit_transform(our_score)"
   ]
  },
  {
   "cell_type": "code",
   "execution_count": null,
   "metadata": {},
   "outputs": [],
   "source": [
    "from tensorflow.keras import models\n",
    "from tensorflow.keras.layers import Dense,Dropout\n",
    "model1=models.Sequential()\n",
    "model1.add(Dense(32,input_shape=(7,),kernel_initializer='normal',activation=\"relu\"))\n",
    "#model1.add(Dropout(0.2))\n",
    "model1.add(Dense(32,kernel_initializer=\"normal\",activation=\"relu\"))\n",
    "model1.add(Dense(1,kernel_initializer='normal'))\n",
    "model1.compile(optimizer=\"adam\",loss=\"mse\", metrics=['mae'])\n",
    "model1.summary()"
   ]
  },
  {
   "cell_type": "code",
   "execution_count": null,
   "metadata": {},
   "outputs": [],
   "source": [
    "model1.fit(data,our_score,epochs=10)"
   ]
  },
  {
   "cell_type": "code",
   "execution_count": null,
   "metadata": {},
   "outputs": [],
   "source": [
    "model1.save(\"books_model.h5\")"
   ]
  }
 ],
 "metadata": {
  "kernelspec": {
   "display_name": "Python 3",
   "language": "python",
   "name": "python3"
  },
  "language_info": {
   "codemirror_mode": {
    "name": "ipython",
    "version": 3
   },
   "file_extension": ".py",
   "mimetype": "text/x-python",
   "name": "python",
   "nbconvert_exporter": "python",
   "pygments_lexer": "ipython3",
   "version": "3.8.5"
  }
 },
 "nbformat": 4,
 "nbformat_minor": 4
}
