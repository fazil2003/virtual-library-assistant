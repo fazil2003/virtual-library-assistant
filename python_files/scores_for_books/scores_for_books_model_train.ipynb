{
 "cells": [
  {
   "cell_type": "code",
   "execution_count": 1,
   "metadata": {},
   "outputs": [],
   "source": [
    "import numpy as np\n",
    "average_rating = np.random.uniform(5,0,900000)\n",
    "author_rating = np.random.uniform(5,0,900000)\n",
    "ratings_count=np.random.randint(2000, size=(900000))\n",
    "year=np.random.randint(1963,2020, size=(900000))\n",
    "edition=np.random.randint(1,5,size=(900000))\n",
    "impressions=np.random.randint(0,5000, size=(900000))\n",
    "clicks=np.random.randint(0,500, size=(900000))"
   ]
  },
  {
   "cell_type": "code",
   "execution_count": 2,
   "metadata": {},
   "outputs": [],
   "source": [
    "data = np.stack((average_rating,author_rating,ratings_count,year,edition,impressions,clicks), axis=1)"
   ]
  },
  {
   "cell_type": "code",
   "execution_count": 3,
   "metadata": {},
   "outputs": [],
   "source": [
    "our_score=(average_rating/5)+(ratings_count/2000)+(year/2020)+(author_rating/5)+(edition/5)+(impressions/5000)+(clicks/500)"
   ]
  },
  {
   "cell_type": "code",
   "execution_count": 4,
   "metadata": {},
   "outputs": [
    {
     "data": {
      "text/plain": [
       "(array([152816]),)"
      ]
     },
     "execution_count": 4,
     "metadata": {},
     "output_type": "execute_result"
    }
   ],
   "source": [
    "np.where(our_score==np.amax(our_score))"
   ]
  },
  {
   "cell_type": "code",
   "execution_count": 5,
   "metadata": {},
   "outputs": [
    {
     "data": {
      "text/plain": [
       "array([   2.3629917 ,    4.95947301, 1015.        , 1988.        ,\n",
       "          3.        , 1617.        ,  178.        ])"
      ]
     },
     "execution_count": 5,
     "metadata": {},
     "output_type": "execute_result"
    }
   ],
   "source": [
    "data[297999]"
   ]
  },
  {
   "cell_type": "code",
   "execution_count": 11,
   "metadata": {},
   "outputs": [],
   "source": [
    "#test_data"
   ]
  },
  {
   "cell_type": "code",
   "execution_count": 7,
   "metadata": {},
   "outputs": [],
   "source": [
    "from sklearn.preprocessing import MinMaxScaler\n",
    "scaler = MinMaxScaler()\n",
    "#data = scaler.fit_transform(data)"
   ]
  },
  {
   "cell_type": "code",
   "execution_count": 8,
   "metadata": {},
   "outputs": [],
   "source": [
    "our_score=our_score.reshape(-1,1)\n",
    "our_score=scaler.fit_transform(our_score)"
   ]
  },
  {
   "cell_type": "code",
   "execution_count": 9,
   "metadata": {},
   "outputs": [
    {
     "name": "stdout",
     "output_type": "stream",
     "text": [
      "Model: \"sequential\"\n",
      "_________________________________________________________________\n",
      "Layer (type)                 Output Shape              Param #   \n",
      "=================================================================\n",
      "dense (Dense)                (None, 32)                256       \n",
      "_________________________________________________________________\n",
      "dense_1 (Dense)              (None, 32)                1056      \n",
      "_________________________________________________________________\n",
      "dense_2 (Dense)              (None, 1)                 33        \n",
      "=================================================================\n",
      "Total params: 1,345\n",
      "Trainable params: 1,345\n",
      "Non-trainable params: 0\n",
      "_________________________________________________________________\n"
     ]
    }
   ],
   "source": [
    "from tensorflow.keras import models\n",
    "from tensorflow.keras.layers import Dense,Dropout\n",
    "model1=models.Sequential()\n",
    "model1.add(Dense(32,input_shape=(7,),kernel_initializer='normal',activation=\"relu\"))\n",
    "#model1.add(Dropout(0.2))\n",
    "model1.add(Dense(32,kernel_initializer=\"normal\",activation=\"relu\"))\n",
    "model1.add(Dense(1,kernel_initializer='normal'))\n",
    "model1.compile(optimizer=\"adam\",loss=\"mse\", metrics=['mae'])\n",
    "model1.summary()"
   ]
  },
  {
   "cell_type": "code",
   "execution_count": 10,
   "metadata": {},
   "outputs": [
    {
     "name": "stdout",
     "output_type": "stream",
     "text": [
      "Epoch 1/10\n",
      "28125/28125 [==============================] - 11s 388us/step - loss: 0.0039 - mae: 0.0177\n",
      "Epoch 2/10\n",
      "28125/28125 [==============================] - 11s 386us/step - loss: 3.9606e-05 - mae: 0.0045\n",
      "Epoch 3/10\n",
      "28125/28125 [==============================] - 11s 386us/step - loss: 2.3985e-05 - mae: 0.0035\n",
      "Epoch 4/10\n",
      "28125/28125 [==============================] - 11s 384us/step - loss: 1.7923e-05 - mae: 0.0030\n",
      "Epoch 5/10\n",
      "28125/28125 [==============================] - 11s 386us/step - loss: 1.4448e-05 - mae: 0.0026\n",
      "Epoch 6/10\n",
      "28125/28125 [==============================] - 11s 386us/step - loss: 1.2257e-05 - mae: 0.0022\n",
      "Epoch 7/10\n",
      "28125/28125 [==============================] - 11s 386us/step - loss: 1.0291e-05 - mae: 0.0019\n",
      "Epoch 8/10\n",
      "28125/28125 [==============================] - 11s 384us/step - loss: 9.4234e-06 - mae: 0.0018\n",
      "Epoch 9/10\n",
      "28125/28125 [==============================] - 11s 387us/step - loss: 8.2059e-06 - mae: 0.0017\n",
      "Epoch 10/10\n",
      "28125/28125 [==============================] - 11s 402us/step - loss: 7.8166e-06 - mae: 0.0016\n"
     ]
    },
    {
     "data": {
      "text/plain": [
       "<tensorflow.python.keras.callbacks.History at 0x7f3170613cd0>"
      ]
     },
     "execution_count": 10,
     "metadata": {},
     "output_type": "execute_result"
    }
   ],
   "source": [
    "model1.fit(data,our_score,epochs=10)"
   ]
  },
  {
   "cell_type": "code",
   "execution_count": 12,
   "metadata": {},
   "outputs": [],
   "source": [
    "model1.save(\"books_model.h5\")"
   ]
  },
  {
   "cell_type": "code",
   "execution_count": null,
   "metadata": {},
   "outputs": [],
   "source": []
  }
 ],
 "metadata": {
  "kernelspec": {
   "display_name": "Python 3",
   "language": "python",
   "name": "python3"
  },
  "language_info": {
   "codemirror_mode": {
    "name": "ipython",
    "version": 3
   },
   "file_extension": ".py",
   "mimetype": "text/x-python",
   "name": "python",
   "nbconvert_exporter": "python",
   "pygments_lexer": "ipython3",
   "version": "3.9.2"
  }
 },
 "nbformat": 4,
 "nbformat_minor": 4
}
